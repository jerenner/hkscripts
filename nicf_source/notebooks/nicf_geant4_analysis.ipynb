{
 "cells": [
  {
   "cell_type": "markdown",
   "metadata": {},
   "source": [
    "# Analysis: Geant4 simulation of Ni-Cf source\n",
    "The simulation launches $^{252}$Cf decays from the center of a spherical volume composed of a mixture of NiO and polyethylene. The true Monte Carlo information, including the particles produced in each event and relevant kinematic information, is stored in an HDF5 ntuple which can be read and processed in this notebook."
   ]
  },
  {
   "cell_type": "code",
   "execution_count": 1,
   "metadata": {},
   "outputs": [],
   "source": [
    "import h5py\n",
    "import tables as tb\n",
    "import numpy as np\n",
    "import matplotlib.pyplot as plt\n",
    "import pandas as pd"
   ]
  },
  {
   "cell_type": "code",
   "execution_count": 2,
   "metadata": {},
   "outputs": [],
   "source": [
    "def read_hdf5_to_df(fname):\n",
    "    \"\"\"\n",
    "    Reads an output HDF5 file from the nisource Geant4 simulation into a Pandas DataFrame.\n",
    "    \"\"\"\n",
    "    \n",
    "    # Open the file and get the ntuple.\n",
    "    fn = h5py.File(fname,'r')\n",
    "    ntuple = fn['default_ntuples']['nisource']\n",
    "    \n",
    "    # Fill a dictionary with the ntuple column values.\n",
    "    df_values = {}\n",
    "    for col in list(ntuple):\n",
    "\n",
    "        # Only process H5 groups with actual data.\n",
    "        if(isinstance(ntuple[col],h5py._hl.group.Group)):\n",
    "            #print(\"Adding column\",col,\"...\")\n",
    "            if(ntuple[col]['pages'].dtype == object):\n",
    "                df_values[col] = [x.decode('utf-8') for x in ntuple[col]['pages'][:]]\n",
    "            else:\n",
    "                df_values[col] = ntuple[col]['pages'][:]\n",
    "             \n",
    "    # Create the dataframe.\n",
    "    df = pd.DataFrame.from_dict(df_values)\n",
    "    \n",
    "    # Add composite columns.\n",
    "    ri = (df.xi**2 + df.yi**2 + df.zi**2)**0.5\n",
    "    rf = (df.xf**2 + df.yf**2 + df.zf**2)**0.5\n",
    "    Ki = (df.pxi**2 + df.pyi**2 + df.pzi**2)**0.5\n",
    "    Kf = (df.pxf**2 + df.pyf**2 + df.pzf**2)**0.5\n",
    "    \n",
    "    df['ri'] = ri  # initial radius\n",
    "    df['rf'] = rf  # final radius\n",
    "    df['Ki'] = Ki  # initial kinetic energy\n",
    "    df['Kf'] = Kf  # final kinetic energy\n",
    "    \n",
    "    # Compute time since initial decay.\n",
    "    timin_evts = pd.DataFrame(df[df.ti > 0].groupby(['event'])['ti'].min())\n",
    "    timin_evts = timin_evts.rename(columns={\"ti\": \"ti_min\"})\n",
    "    df = pd.merge(df, timin_evts, on='event', how='outer')\n",
    "    \n",
    "    return df"
   ]
  },
  {
   "cell_type": "markdown",
   "metadata": {},
   "source": [
    "### Read in the ntuple"
   ]
  },
  {
   "cell_type": "code",
   "execution_count": 3,
   "metadata": {},
   "outputs": [
    {
     "name": "stdout",
     "output_type": "stream",
     "text": [
      "--2021-04-22 18:44:00--  https://www.dropbox.com/s/aig7xqq1ffluig6/nicf_source_ntuple.hdf5\n",
      "Resolving www.dropbox.com (www.dropbox.com)... 162.125.68.18, 2620:100:6024:18::a27d:4412\n",
      "Connecting to www.dropbox.com (www.dropbox.com)|162.125.68.18|:443... connected.\n",
      "HTTP request sent, awaiting response... 301 Moved Permanently\n",
      "Location: /s/raw/aig7xqq1ffluig6/nicf_source_ntuple.hdf5 [following]\n",
      "--2021-04-22 18:44:00--  https://www.dropbox.com/s/raw/aig7xqq1ffluig6/nicf_source_ntuple.hdf5\n",
      "Reusing existing connection to www.dropbox.com:443.\n",
      "HTTP request sent, awaiting response... 302 Found\n",
      "Location: https://uc2aaf5f7e6fb758d35f12f699dd.dl.dropboxusercontent.com/cd/0/inline/BNGckbiC5KCIp0b2pq4J2yqUSjmf62TIMdvum7eJwDb1b6F5tHecu3Ct1m86dC1lN62OEfEZqEytMEuOLkiIL2dHtHFx8eaPqmEFruGBaEWB91xrdPlVvwTJFa-OxiREaF34xbIM9M5Y53vuqpUpCv7f/file# [following]\n",
      "--2021-04-22 18:44:01--  https://uc2aaf5f7e6fb758d35f12f699dd.dl.dropboxusercontent.com/cd/0/inline/BNGckbiC5KCIp0b2pq4J2yqUSjmf62TIMdvum7eJwDb1b6F5tHecu3Ct1m86dC1lN62OEfEZqEytMEuOLkiIL2dHtHFx8eaPqmEFruGBaEWB91xrdPlVvwTJFa-OxiREaF34xbIM9M5Y53vuqpUpCv7f/file\n",
      "Resolving uc2aaf5f7e6fb758d35f12f699dd.dl.dropboxusercontent.com (uc2aaf5f7e6fb758d35f12f699dd.dl.dropboxusercontent.com)... 162.125.68.15, 2620:100:6024:15::a27d:440f\n",
      "Connecting to uc2aaf5f7e6fb758d35f12f699dd.dl.dropboxusercontent.com (uc2aaf5f7e6fb758d35f12f699dd.dl.dropboxusercontent.com)|162.125.68.15|:443... connected.\n",
      "HTTP request sent, awaiting response... 302 Found\n",
      "Location: /cd/0/inline2/BNFqrpr9fqV9ohVzKop2nkY0VyMfa_WwK7aSgns9XmYng6GgbQMp2vxJ3XsL4JH0mMekLn45XjqoQ0PvWlIwaNPJN38-jx71ydqlstXkCRIwb4l6b1JMscNOYALyl0R_cBC0t-RQ7dAwXbPt6uuYcSOrQZUCzoySLaFymC8Lrl5ZEjkpzC1yzVCajeInu1eeEqp-v_jYGGZ1zQEI-DXssjNg4YzayqLht4nZSrHkMRRow0aJcNfqJpSERpxCxC7bTkl9QFGHU0hnchJN_Vcy8MYAcq8t5RHzlShNbdwNcS4iJpRABY2x7SDSQlWSHpuqw-fRk_FvDYqv-svP6vlXnvhrfjcWFEw-ChlkyxXt76qvUWkS1xKUqqPpyJjJX16VGxw/file [following]\n",
      "--2021-04-22 18:44:02--  https://uc2aaf5f7e6fb758d35f12f699dd.dl.dropboxusercontent.com/cd/0/inline2/BNFqrpr9fqV9ohVzKop2nkY0VyMfa_WwK7aSgns9XmYng6GgbQMp2vxJ3XsL4JH0mMekLn45XjqoQ0PvWlIwaNPJN38-jx71ydqlstXkCRIwb4l6b1JMscNOYALyl0R_cBC0t-RQ7dAwXbPt6uuYcSOrQZUCzoySLaFymC8Lrl5ZEjkpzC1yzVCajeInu1eeEqp-v_jYGGZ1zQEI-DXssjNg4YzayqLht4nZSrHkMRRow0aJcNfqJpSERpxCxC7bTkl9QFGHU0hnchJN_Vcy8MYAcq8t5RHzlShNbdwNcS4iJpRABY2x7SDSQlWSHpuqw-fRk_FvDYqv-svP6vlXnvhrfjcWFEw-ChlkyxXt76qvUWkS1xKUqqPpyJjJX16VGxw/file\n",
      "Reusing existing connection to uc2aaf5f7e6fb758d35f12f699dd.dl.dropboxusercontent.com:443.\n",
      "HTTP request sent, awaiting response... 200 OK\n",
      "Length: 44970254 (43M) [application/octet-stream]\n",
      "Saving to: ‘nicf_source_ntuple.hdf5’\n",
      "\n",
      "nicf_source_ntuple. 100%[===================>]  42.89M  9.92MB/s    in 4.8s    \n",
      "\n",
      "2021-04-22 18:44:07 (8.96 MB/s) - ‘nicf_source_ntuple.hdf5’ saved [44970254/44970254]\n",
      "\n"
     ]
    }
   ],
   "source": [
    "!wget https://www.dropbox.com/s/aig7xqq1ffluig6/nicf_source_ntuple.hdf5"
   ]
  },
  {
   "cell_type": "code",
   "execution_count": 4,
   "metadata": {},
   "outputs": [
    {
     "data": {
      "text/html": [
       "<div>\n",
       "<style scoped>\n",
       "    .dataframe tbody tr th:only-of-type {\n",
       "        vertical-align: middle;\n",
       "    }\n",
       "\n",
       "    .dataframe tbody tr th {\n",
       "        vertical-align: top;\n",
       "    }\n",
       "\n",
       "    .dataframe thead th {\n",
       "        text-align: right;\n",
       "    }\n",
       "</style>\n",
       "<table border=\"1\" class=\"dataframe\">\n",
       "  <thead>\n",
       "    <tr style=\"text-align: right;\">\n",
       "      <th></th>\n",
       "      <th>event</th>\n",
       "      <th>mass</th>\n",
       "      <th>parentID</th>\n",
       "      <th>particleName</th>\n",
       "      <th>pxf</th>\n",
       "      <th>pxi</th>\n",
       "      <th>pyf</th>\n",
       "      <th>pyi</th>\n",
       "      <th>pzf</th>\n",
       "      <th>pzi</th>\n",
       "      <th>...</th>\n",
       "      <th>xi</th>\n",
       "      <th>yf</th>\n",
       "      <th>yi</th>\n",
       "      <th>zf</th>\n",
       "      <th>zi</th>\n",
       "      <th>ri</th>\n",
       "      <th>rf</th>\n",
       "      <th>Ki</th>\n",
       "      <th>Kf</th>\n",
       "      <th>ti_min</th>\n",
       "    </tr>\n",
       "  </thead>\n",
       "  <tbody>\n",
       "    <tr>\n",
       "      <th>0</th>\n",
       "      <td>0</td>\n",
       "      <td>234763.351319</td>\n",
       "      <td>0</td>\n",
       "      <td>Cf252</td>\n",
       "      <td>0.00000</td>\n",
       "      <td>0.000000</td>\n",
       "      <td>0.000000</td>\n",
       "      <td>0.000000</td>\n",
       "      <td>0.000000</td>\n",
       "      <td>0.000000</td>\n",
       "      <td>...</td>\n",
       "      <td>0.000000e+00</td>\n",
       "      <td>0.000000e+00</td>\n",
       "      <td>0.000000e+00</td>\n",
       "      <td>0.000000e+00</td>\n",
       "      <td>0.000000e+00</td>\n",
       "      <td>0.0</td>\n",
       "      <td>0.000000e+00</td>\n",
       "      <td>0.000000</td>\n",
       "      <td>0.000000</td>\n",
       "      <td>1.636367e+17</td>\n",
       "    </tr>\n",
       "    <tr>\n",
       "      <th>1</th>\n",
       "      <td>0</td>\n",
       "      <td>3727.379000</td>\n",
       "      <td>1</td>\n",
       "      <td>alpha</td>\n",
       "      <td>0.00000</td>\n",
       "      <td>132.848650</td>\n",
       "      <td>-0.000000</td>\n",
       "      <td>-162.682253</td>\n",
       "      <td>34.828944</td>\n",
       "      <td>34.828944</td>\n",
       "      <td>...</td>\n",
       "      <td>0.000000e+00</td>\n",
       "      <td>-1.141883e-02</td>\n",
       "      <td>0.000000e+00</td>\n",
       "      <td>2.444678e-03</td>\n",
       "      <td>0.000000e+00</td>\n",
       "      <td>0.0</td>\n",
       "      <td>1.494382e-02</td>\n",
       "      <td>212.902172</td>\n",
       "      <td>34.828944</td>\n",
       "      <td>1.636367e+17</td>\n",
       "    </tr>\n",
       "    <tr>\n",
       "      <th>2</th>\n",
       "      <td>0</td>\n",
       "      <td>231029.751654</td>\n",
       "      <td>1</td>\n",
       "      <td>Cm248[43.400]</td>\n",
       "      <td>-132.84865</td>\n",
       "      <td>-132.848650</td>\n",
       "      <td>162.682253</td>\n",
       "      <td>162.682253</td>\n",
       "      <td>-34.828944</td>\n",
       "      <td>-34.828944</td>\n",
       "      <td>...</td>\n",
       "      <td>0.000000e+00</td>\n",
       "      <td>1.218792e-308</td>\n",
       "      <td>0.000000e+00</td>\n",
       "      <td>-2.609335e-309</td>\n",
       "      <td>0.000000e+00</td>\n",
       "      <td>0.0</td>\n",
       "      <td>0.000000e+00</td>\n",
       "      <td>212.902172</td>\n",
       "      <td>212.902172</td>\n",
       "      <td>1.636367e+17</td>\n",
       "    </tr>\n",
       "    <tr>\n",
       "      <th>3</th>\n",
       "      <td>0</td>\n",
       "      <td>0.510999</td>\n",
       "      <td>2</td>\n",
       "      <td>e-</td>\n",
       "      <td>0.00000</td>\n",
       "      <td>0.151762</td>\n",
       "      <td>-0.000000</td>\n",
       "      <td>-0.092054</td>\n",
       "      <td>-0.089882</td>\n",
       "      <td>-0.089882</td>\n",
       "      <td>...</td>\n",
       "      <td>-9.952832e-309</td>\n",
       "      <td>-1.018874e-03</td>\n",
       "      <td>1.218792e-308</td>\n",
       "      <td>-9.948400e-04</td>\n",
       "      <td>-2.609335e-309</td>\n",
       "      <td>0.0</td>\n",
       "      <td>2.202120e-03</td>\n",
       "      <td>0.198958</td>\n",
       "      <td>0.089882</td>\n",
       "      <td>1.636367e+17</td>\n",
       "    </tr>\n",
       "    <tr>\n",
       "      <th>4</th>\n",
       "      <td>0</td>\n",
       "      <td>0.510999</td>\n",
       "      <td>2</td>\n",
       "      <td>e-</td>\n",
       "      <td>0.00000</td>\n",
       "      <td>0.000233</td>\n",
       "      <td>-0.000000</td>\n",
       "      <td>-0.013831</td>\n",
       "      <td>0.004203</td>\n",
       "      <td>0.004203</td>\n",
       "      <td>...</td>\n",
       "      <td>-9.952832e-309</td>\n",
       "      <td>-7.794640e-07</td>\n",
       "      <td>1.218792e-308</td>\n",
       "      <td>2.368486e-07</td>\n",
       "      <td>-2.609335e-309</td>\n",
       "      <td>0.0</td>\n",
       "      <td>8.147602e-07</td>\n",
       "      <td>0.014457</td>\n",
       "      <td>0.004203</td>\n",
       "      <td>1.636367e+17</td>\n",
       "    </tr>\n",
       "  </tbody>\n",
       "</table>\n",
       "<p>5 rows × 26 columns</p>\n",
       "</div>"
      ],
      "text/plain": [
       "   event           mass  parentID   particleName        pxf         pxi  \\\n",
       "0      0  234763.351319         0          Cf252    0.00000    0.000000   \n",
       "1      0    3727.379000         1          alpha    0.00000  132.848650   \n",
       "2      0  231029.751654         1  Cm248[43.400] -132.84865 -132.848650   \n",
       "3      0       0.510999         2             e-    0.00000    0.151762   \n",
       "4      0       0.510999         2             e-    0.00000    0.000233   \n",
       "\n",
       "          pyf         pyi        pzf        pzi  ...             xi  \\\n",
       "0    0.000000    0.000000   0.000000   0.000000  ...   0.000000e+00   \n",
       "1   -0.000000 -162.682253  34.828944  34.828944  ...   0.000000e+00   \n",
       "2  162.682253  162.682253 -34.828944 -34.828944  ...   0.000000e+00   \n",
       "3   -0.000000   -0.092054  -0.089882  -0.089882  ... -9.952832e-309   \n",
       "4   -0.000000   -0.013831   0.004203   0.004203  ... -9.952832e-309   \n",
       "\n",
       "              yf             yi             zf             zi   ri  \\\n",
       "0   0.000000e+00   0.000000e+00   0.000000e+00   0.000000e+00  0.0   \n",
       "1  -1.141883e-02   0.000000e+00   2.444678e-03   0.000000e+00  0.0   \n",
       "2  1.218792e-308   0.000000e+00 -2.609335e-309   0.000000e+00  0.0   \n",
       "3  -1.018874e-03  1.218792e-308  -9.948400e-04 -2.609335e-309  0.0   \n",
       "4  -7.794640e-07  1.218792e-308   2.368486e-07 -2.609335e-309  0.0   \n",
       "\n",
       "             rf          Ki          Kf        ti_min  \n",
       "0  0.000000e+00    0.000000    0.000000  1.636367e+17  \n",
       "1  1.494382e-02  212.902172   34.828944  1.636367e+17  \n",
       "2  0.000000e+00  212.902172  212.902172  1.636367e+17  \n",
       "3  2.202120e-03    0.198958    0.089882  1.636367e+17  \n",
       "4  8.147602e-07    0.014457    0.004203  1.636367e+17  \n",
       "\n",
       "[5 rows x 26 columns]"
      ]
     },
     "execution_count": 4,
     "metadata": {},
     "output_type": "execute_result"
    }
   ],
   "source": [
    "df = read_hdf5_to_df('nicf_source_ntuple.hdf5')\n",
    "df.head()"
   ]
  },
  {
   "cell_type": "markdown",
   "metadata": {},
   "source": [
    "### Analysis: gamma energies"
   ]
  },
  {
   "cell_type": "code",
   "execution_count": 5,
   "metadata": {},
   "outputs": [],
   "source": [
    "# Select gamma events that made it out of the source, with a time cut of 10 years.\n",
    "df_gammas_world = df[(df.particleName == 'gamma') & (df.volFinal == 'World')]"
   ]
  },
  {
   "cell_type": "code",
   "execution_count": 6,
   "metadata": {},
   "outputs": [
    {
     "data": {
      "text/plain": [
       "<matplotlib.legend.Legend at 0x7f8927af7950>"
      ]
     },
     "execution_count": 6,
     "metadata": {},
     "output_type": "execute_result"
    },
    {
     "data": {
      "image/png": "[encoded data removed]",
      "text/plain": [
       "<Figure size 1080x288 with 2 Axes>"
      ]
     },
     "metadata": {
      "needs_background": "light"
     },
     "output_type": "display_data"
    }
   ],
   "source": [
    "# Time cuts on all decays.\n",
    "years = (365*24*60*60*1.0e9)  # number of ns in a year\n",
    "tcut1 = 0.5*years\n",
    "tcut2 = 1*years\n",
    "tcut3 = 10*years\n",
    "\n",
    "fig = plt.figure(1)\n",
    "fig.patch.set_alpha(0.0)\n",
    "fig.set_figheight(4.0)\n",
    "fig.set_figwidth(15.0)\n",
    "\n",
    "# Without normalization\n",
    "normed = False\n",
    "ax1 = fig.add_subplot(121)\n",
    "plt.hist(df_gammas_world.Kf,bins=100,density=normed,label=\"No time cut\",color='red')\n",
    "plt.hist(df_gammas_world[(df_gammas_world.ti < tcut3)].Kf,bins=100,density=normed,label=\"t < 10 years\",color='green')\n",
    "plt.hist(df_gammas_world[(df_gammas_world.ti < tcut2)].Kf,bins=100,density=normed,label=\"t < 1 year\",color='blue')\n",
    "plt.hist(df_gammas_world[(df_gammas_world.ti < tcut1)].Kf,bins=100,density=normed,label=\"t < 0.5 years\",color='black')\n",
    "plt.xlabel('Energy (MeV)')\n",
    "plt.ylabel('Counts/bin')\n",
    "plt.yscale(\"log\")\n",
    "plt.legend()\n",
    "\n",
    "normed = True\n",
    "ax2 = fig.add_subplot(122)\n",
    "plt.hist(df_gammas_world[(df_gammas_world.ti < tcut3)].Kf,bins=100,density=normed,label=\"t < 10 years\",color='green')\n",
    "plt.hist(df_gammas_world[(df_gammas_world.ti < tcut2)].Kf,bins=100,density=normed,label=\"t < 1 year\",color='blue')\n",
    "plt.hist(df_gammas_world[(df_gammas_world.ti < tcut1)].Kf,bins=100,density=normed,label=\"t < 0.5 years\",color='black')\n",
    "plt.hist(df_gammas_world.Kf,bins=100,density=normed,label=\"No time cut\",color='red')\n",
    "plt.xlabel('Energy (MeV)')\n",
    "plt.ylabel('Counts/bin')\n",
    "plt.yscale(\"log\")\n",
    "plt.title(\"(Normalized)\")\n",
    "plt.legend()"
   ]
  },
  {
   "cell_type": "code",
   "execution_count": 7,
   "metadata": {},
   "outputs": [
    {
     "data": {
      "text/plain": [
       "<matplotlib.legend.Legend at 0x7f892722b090>"
      ]
     },
     "execution_count": 7,
     "metadata": {},
     "output_type": "execute_result"
    },
    {
     "data": {
      "image/png": "[encoded data removed]",
      "text/plain": [
       "<Figure size 432x288 with 1 Axes>"
      ]
     },
     "metadata": {
      "needs_background": "light"
     },
     "output_type": "display_data"
    }
   ],
   "source": [
    "plt.hist(df_gammas_world[(df_gammas_world.ti < 10*years)].Kf,bins=100,density=normed,label=\"t < 10 years\",color='green')\n",
    "plt.xlabel('Energy (MeV)')\n",
    "plt.ylabel('Counts/bin')\n",
    "plt.legend()"
   ]
  },
  {
   "cell_type": "code",
   "execution_count": 8,
   "metadata": {},
   "outputs": [
    {
     "data": {
      "text/plain": [
       "<matplotlib.legend.Legend at 0x7f8926ced810>"
      ]
     },
     "execution_count": 8,
     "metadata": {},
     "output_type": "execute_result"
    },
    {
     "data": {
      "image/png": "[encoded data removed]",
      "text/plain": [
       "<Figure size 1080x288 with 2 Axes>"
      ]
     },
     "metadata": {
      "needs_background": "light"
     },
     "output_type": "display_data"
    }
   ],
   "source": [
    "# Cuts on time since the initial decay.\n",
    "tcut1 = 1.0e3\n",
    "tcut2 = 1.0e4\n",
    "tcut3 = 1.0e9\n",
    "\n",
    "fig = plt.figure(1)\n",
    "fig.patch.set_alpha(0.0)\n",
    "fig.set_figheight(4.0)\n",
    "fig.set_figwidth(15.0)\n",
    "\n",
    "# Without normalization\n",
    "normed = False\n",
    "ax1 = fig.add_subplot(121)\n",
    "plt.hist(df_gammas_world[(df_gammas_world.ti - df_gammas_world.ti_min) < tcut3].Kf,bins=100,density=normed,label=\"t < 1 s\",color='green')\n",
    "plt.hist(df_gammas_world[(df_gammas_world.ti - df_gammas_world.ti_min) < tcut2].Kf,bins=100,density=normed,label=\"t < 10 $\\mu$s\",color='blue')\n",
    "plt.hist(df_gammas_world[(df_gammas_world.ti - df_gammas_world.ti_min) < tcut1].Kf,bins=100,density=normed,label=\"t < 1 $\\mu$s\",color='red')\n",
    "plt.xlabel('Energy (MeV)')\n",
    "plt.ylabel('Counts/bin')\n",
    "plt.yscale(\"log\")\n",
    "plt.title(\"Time since initial decay\")\n",
    "plt.legend()\n",
    "\n",
    "normed = True\n",
    "ax2 = fig.add_subplot(122)\n",
    "plt.hist(df_gammas_world[(df_gammas_world.ti - df_gammas_world.ti_min) < tcut3].Kf,bins=100,density=normed,label=\"t < 1 s\",color='green')\n",
    "plt.hist(df_gammas_world[(df_gammas_world.ti - df_gammas_world.ti_min) < tcut2].Kf,bins=100,density=normed,label=\"t < 10 $\\mu$s\",color='blue')\n",
    "plt.hist(df_gammas_world[(df_gammas_world.ti - df_gammas_world.ti_min) < tcut1].Kf,bins=100,density=normed,label=\"t < 1 $\\mu$s\",color='red')\n",
    "plt.xlabel('Energy (MeV)')\n",
    "plt.ylabel('Counts/bin')\n",
    "plt.yscale(\"log\")\n",
    "plt.title(\"(Normalized)\")\n",
    "plt.legend()"
   ]
  },
  {
   "cell_type": "markdown",
   "metadata": {},
   "source": [
    "### Examination of specific gammas"
   ]
  },
  {
   "cell_type": "code",
   "execution_count": 11,
   "metadata": {},
   "outputs": [],
   "source": [
    "egamma_low, egamma_high = 2.614, 2.615\n",
    "#egamma_low, egamma_high = 2.22425, 2.22450\n",
    "df_gamma_cuts = df_gammas_world[(df_gammas_world.Kf > egamma_low) & (df_gammas_world.Kf < egamma_high)]\n",
    "evts = df_gamma_cuts.event.values\n",
    "\n",
    "dparticles = {}\n",
    "for evt in evts:\n",
    "    unique_particles = np.unique(df[df.event == evt].particleName.values)\n",
    "    for particle in unique_particles:\n",
    "        if(len(particle) < 6):\n",
    "            dparticles.setdefault(particle,0)\n",
    "            dparticles[particle] += 1"
   ]
  },
  {
   "cell_type": "code",
   "execution_count": 12,
   "metadata": {},
   "outputs": [
    {
     "name": "stdout",
     "output_type": "stream",
     "text": [
      "Pb208[2614.522]\n",
      "Pb208[2614.522]\n",
      "Pb208[2614.522]\n",
      "Pb208[2614.522]\n",
      "Pb208[2614.522]\n",
      "Pb208[2614.522]\n",
      "Pb208[2614.522]\n",
      "Pb208[2614.522]\n",
      "Pb208[2614.522]\n",
      "Pb208[2614.522]\n"
     ]
    }
   ],
   "source": [
    "# Check which nucleus[level] these gammas are coming from.\n",
    "for evt in evts[0:10]:\n",
    "    df_evt = df[df.event == evt]\n",
    "    parent = df_evt[(df_evt.particleName == 'gamma') & (df_evt.Kf > egamma_low) & (df_evt.Kf < egamma_high)].parentID.values[0]\n",
    "    print(df_evt[df_evt.trackID == parent].particleName.values[0])"
   ]
  },
  {
   "cell_type": "code",
   "execution_count": 13,
   "metadata": {
    "scrolled": true
   },
   "outputs": [
    {
     "data": {
      "image/png": "[encoded data removed]",
      "text/plain": [
       "<Figure size 864x576 with 1 Axes>"
      ]
     },
     "metadata": {
      "needs_background": "light"
     },
     "output_type": "display_data"
    }
   ],
   "source": [
    "x = np.arange(len(dparticles.keys()))  # the label locations\n",
    "width = 0.35  # the width of the bars\n",
    "\n",
    "fig, ax = plt.subplots()\n",
    "fig.set_figheight(8.0)\n",
    "fig.set_figwidth(12.0)\n",
    "rects1 = ax.bar(x, dparticles.values(), width)\n",
    "ax.set_ylabel('Number of occurrences in {} events'.format(len(evts)))\n",
    "ax.set_xticks(x)\n",
    "ax.set_xticklabels(dparticles.keys(),rotation='vertical')\n",
    "plt.title(\"Events with 2.224 MeV gamma\")\n",
    "\n",
    "def autolabel(rects):\n",
    "    \"\"\"Attach a text label above each bar in *rects*, displaying its height.\"\"\"\n",
    "    for rect in rects:\n",
    "        height = rect.get_height()\n",
    "        ax.annotate('{}'.format(height),\n",
    "                    xy=(rect.get_x() + rect.get_width() / 2, height),\n",
    "                    xytext=(0, 3),  # 3 points vertical offset\n",
    "                    textcoords=\"offset points\",\n",
    "                    ha='center', va='bottom')\n",
    "\n",
    "\n",
    "autolabel(rects1)"
   ]
  },
  {
   "cell_type": "markdown",
   "metadata": {},
   "source": [
    "### Misc."
   ]
  },
  {
   "cell_type": "code",
   "execution_count": 15,
   "metadata": {},
   "outputs": [
    {
     "data": {
      "text/plain": [
       "(array([1.21439e+05, 1.40600e+03, 1.55200e+03, 1.40900e+03, 1.02900e+03,\n",
       "        1.23500e+03, 1.20600e+03, 1.22500e+03, 9.36000e+02, 1.10600e+03,\n",
       "        1.06500e+03, 1.04600e+03, 9.92000e+02, 1.01100e+03, 1.04100e+03,\n",
       "        1.14800e+03, 1.05800e+03, 1.12200e+03, 1.06500e+03, 9.49000e+02,\n",
       "        9.52000e+02, 9.54000e+02, 8.29000e+02, 8.05000e+02, 8.49000e+02,\n",
       "        8.61000e+02, 7.96000e+02, 8.70000e+02, 6.86000e+02, 6.48000e+02,\n",
       "        5.52000e+02, 4.98000e+02, 4.52000e+02, 3.88000e+02, 3.65000e+02,\n",
       "        0.00000e+00, 1.00000e+00, 2.00000e+00, 0.00000e+00, 1.00000e+00,\n",
       "        1.00000e+00, 0.00000e+00, 1.00000e+00, 0.00000e+00, 0.00000e+00,\n",
       "        1.00000e+00, 1.00000e+00, 1.00000e+00, 0.00000e+00, 6.89800e+03]),\n",
       " array([  0.,   2.,   4.,   6.,   8.,  10.,  12.,  14.,  16.,  18.,  20.,\n",
       "         22.,  24.,  26.,  28.,  30.,  32.,  34.,  36.,  38.,  40.,  42.,\n",
       "         44.,  46.,  48.,  50.,  52.,  54.,  56.,  58.,  60.,  62.,  64.,\n",
       "         66.,  68.,  70.,  72.,  74.,  76.,  78.,  80.,  82.,  84.,  86.,\n",
       "         88.,  90.,  92.,  94.,  96.,  98., 100.]),\n",
       " <a list of 50 Patch objects>)"
      ]
     },
     "execution_count": 15,
     "metadata": {},
     "output_type": "execute_result"
    },
    {
     "data": {
      "image/png": "[encoded data removed]",
      "text/plain": [
       "<Figure size 432x288 with 1 Axes>"
      ]
     },
     "metadata": {
      "needs_background": "light"
     },
     "output_type": "display_data"
    }
   ],
   "source": [
    "# Distribution of final radial values for all particles.\n",
    "plt.hist(df.rf,bins=50)"
   ]
  },
  {
   "cell_type": "code",
   "execution_count": 16,
   "metadata": {},
   "outputs": [
    {
     "data": {
      "text/plain": [
       "array([ 43,  43,  88,  88, 123, 127, 127, 127, 153, 166, 166, 208, 317,\n",
       "       339, 411, 411, 563, 563, 567, 567, 578, 628, 640, 711, 711, 761,\n",
       "       762, 846, 856, 856, 856, 897, 943, 949, 961, 986], dtype=int32)"
      ]
     },
     "execution_count": 16,
     "metadata": {},
     "output_type": "execute_result"
    }
   ],
   "source": [
    "# Select events containing Ni-59.\n",
    "evts = df[df.particleName == 'Ni59'].event.values\n",
    "evts"
   ]
  },
  {
   "cell_type": "code",
   "execution_count": 17,
   "metadata": {},
   "outputs": [
    {
     "name": "stdout",
     "output_type": "stream",
     "text": [
      "[2.28378534 0.4250406  0.4060755  0.80384006 0.00478142 0.09569516\n",
      " 0.0040158  0.30819517 0.59121829 1.72152924 0.57550483 1.12688085\n",
      " 0.02467705]\n"
     ]
    }
   ],
   "source": [
    "# Print the energies of all gammas in one of these events.\n",
    "df_gammas = df[(df.event == evts[0]) & (df.particleName == 'gamma')]\n",
    "print(df_gammas.Kf.values)"
   ]
  },
  {
   "cell_type": "code",
   "execution_count": 18,
   "metadata": {},
   "outputs": [
    {
     "data": {
      "text/plain": [
       "array(['Ac228', 'Ac228[20.190]', 'Ac228[33.070]', 'Ac228[6.280]',\n",
       "       'Ac228[6.670]', 'Bi212', 'Bi212[115.183]', 'Bi212[238.632]',\n",
       "       'Bi212[415.272]', 'C12', 'C13', 'Cf252', 'Cm248', 'Cm248[143.800]',\n",
       "       'Cm248[43.400]', 'Co59', 'Cu63', 'Ni58', 'Ni59', 'Ni60', 'Ni61',\n",
       "       'Ni63', 'Np240', 'Np240[0.000X]', 'Np240[110.700]',\n",
       "       'Np240[111.600]', 'Np240[189.700]', 'Np240[280.000]',\n",
       "       'Np240[44.170X]', 'Np240[44.170]', 'Np240[61.400X]', 'O16',\n",
       "       'Pb208', 'Pb208[2614.522]', 'Pb208[3197.711]', 'Pb208[3475.078]',\n",
       "       'Pb208[3708.451]', 'Pb208[3919.966]', 'Pb208[3961.162]',\n",
       "       'Pb208[4125.347]', 'Pb212', 'Po212', 'Po212[1512.700]',\n",
       "       'Po212[1620.738]', 'Po212[1679.450]', 'Po212[1805.960]',\n",
       "       'Po212[727.330]', 'Po216', 'Po216[549.760]', 'Pu240',\n",
       "       'Pu240[1001.940]', 'Pu240[1030.550]', 'Pu240[1037.550]',\n",
       "       'Pu240[1076.220]', 'Pu240[1115.530]', 'Pu240[1130.950]',\n",
       "       'Pu240[1161.530]', 'Pu240[1177.630]', 'Pu240[1308.740]',\n",
       "       'Pu240[141.690]', 'Pu240[1410.750]', 'Pu240[1438.450]',\n",
       "       'Pu240[1488.170]', 'Pu240[1525.860]', 'Pu240[1539.670]',\n",
       "       'Pu240[1558.870]', 'Pu240[1607.720]', 'Pu240[1633.370]',\n",
       "       'Pu240[1710.430]', 'Pu240[294.319]', 'Pu240[42.824]',\n",
       "       'Pu240[597.340]', 'Pu240[648.860]', 'Pu240[742.330]',\n",
       "       'Pu240[860.710]', 'Pu240[900.320]', 'Pu240[938.060]',\n",
       "       'Pu240[958.850]', 'Pu244', 'Pu244[155.000]', 'Pu244[44.200]',\n",
       "       'Ra224', 'Ra224[215.985]', 'Ra224[250.783]', 'Ra224[84.373]',\n",
       "       'Ra228', 'Ra228[63.823]', 'Rn220', 'Rn220[240.986]', 'Th228',\n",
       "       'Th228[1016.386]', 'Th228[1022.542]', 'Th228[1059.928]',\n",
       "       'Th228[1074.800]', 'Th228[1091.048]', 'Th228[1122.959]',\n",
       "       'Th228[1153.487]', 'Th228[1168.389]', 'Th228[1175.410]',\n",
       "       'Th228[1200.600]', 'Th228[1226.580]', 'Th228[1297.435]',\n",
       "       'Th228[1344.142]', 'Th228[1393.310]', 'Th228[1416.100]',\n",
       "       'Th228[1431.994]', 'Th228[1450.402]', 'Th228[1531.490]',\n",
       "       'Th228[1539.210]', 'Th228[1617.800]', 'Th228[1638.284]',\n",
       "       'Th228[1643.131]', 'Th228[1646.003]', 'Th228[1682.810]',\n",
       "       'Th228[1688.408]', 'Th228[1724.299]', 'Th228[1735.490]',\n",
       "       'Th228[1743.902]', 'Th228[1758.260]', 'Th228[1796.440]',\n",
       "       'Th228[186.838]', 'Th228[1893.003]', 'Th228[1899.955]',\n",
       "       'Th228[1928.490]', 'Th228[1937.180]', 'Th228[1944.904]',\n",
       "       'Th228[2010.150]', 'Th228[2022.820]', 'Th228[2030.400]',\n",
       "       'Th228[328.019]', 'Th228[378.195]', 'Th228[396.094]',\n",
       "       'Th228[519.208]', 'Th228[57.773]', 'Th228[695.450]',\n",
       "       'Th228[831.842]', 'Th228[874.535]', 'Th228[938.610]',\n",
       "       'Th228[944.205]', 'Th228[968.451]', 'Th228[968.984]',\n",
       "       'Th228[979.522]', 'Th232', 'Th232[49.369]', 'Tl208',\n",
       "       'Tl208[328.040]', 'Tl208[39.858]', 'Tl208[492.840]', 'U236',\n",
       "       'U236[149.477]', 'U236[45.244]', 'U240', 'U240[45.000]', 'alpha',\n",
       "       'anti_nu_e', 'deuteron', 'e+', 'e-', 'gamma', 'neutron', 'nu_e',\n",
       "       'proton'], dtype=object)"
      ]
     },
     "execution_count": 18,
     "metadata": {},
     "output_type": "execute_result"
    }
   ],
   "source": [
    "# Create a list of all unique particles.\n",
    "np.unique(df.particleName.values)"
   ]
  },
  {
   "cell_type": "markdown",
   "metadata": {},
   "source": [
    "#### Initial particle times"
   ]
  },
  {
   "cell_type": "code",
   "execution_count": 19,
   "metadata": {},
   "outputs": [
    {
     "data": {
      "text/plain": [
       "(array([18011.,  4615.,  3555., ...,     0.,     0.,   102.]),\n",
       " array([0.00000000e+00, 1.44298221e+07, 2.88596441e+07, ...,\n",
       "        1.44269361e+11, 1.44283791e+11, 1.44298221e+11]),\n",
       " <a list of 10000 Patch objects>)"
      ]
     },
     "execution_count": 19,
     "metadata": {},
     "output_type": "execute_result"
    },
    {
     "data": {
      "image/png": "[encoded data removed]",
      "text/plain": [
       "<Figure size 432x288 with 1 Axes>"
      ]
     },
     "metadata": {
      "needs_background": "light"
     },
     "output_type": "display_data"
    }
   ],
   "source": [
    "ti_years = df.ti/1.0e9/60/60/24/365.\n",
    "plt.hist(ti_years,bins=10000)\n",
    "#plt.xscale('log')"
   ]
  },
  {
   "cell_type": "code",
   "execution_count": 20,
   "metadata": {},
   "outputs": [
    {
     "data": {
      "text/plain": [
       "507"
      ]
     },
     "execution_count": 20,
     "metadata": {},
     "output_type": "execute_result"
    }
   ],
   "source": [
    "# Sanity check on time calculation (time is given in ns): should be about N/2, \n",
    "#  where N is the number of simulated events, for half-life 2.645 yr.\n",
    "events_tcut = df[(df.ti < (2.645*365*24*60*60*1.0e9)) & (df.ti > 0)].event\n",
    "len(np.unique(events_tcut))"
   ]
  },
  {
   "cell_type": "code",
   "execution_count": null,
   "metadata": {},
   "outputs": [],
   "source": []
  }
 ],
 "metadata": {
  "kernelspec": {
   "display_name": "Python 3",
   "language": "python",
   "name": "python3"
  },
  "language_info": {
   "codemirror_mode": {
    "name": "ipython",
    "version": 3
   },
   "file_extension": ".py",
   "mimetype": "text/x-python",
   "name": "python",
   "nbconvert_exporter": "python",
   "pygments_lexer": "ipython3",
   "version": "3.7.6"
  }
 },
 "nbformat": 4,
 "nbformat_minor": 4
}
